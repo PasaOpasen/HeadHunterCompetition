{
 "cells": [
  {
   "cell_type": "code",
   "execution_count": 2,
   "metadata": {},
   "outputs": [],
   "source": [
    "import json\n",
    "import gzip\n",
    "from itertools import islice\n",
    "from collections import Counter, defaultdict\n",
    "from operator import itemgetter\n",
    "\n",
    "import pandas as pd\n",
    "from tqdm.notebook import tqdm"
   ]
  },
  {
   "cell_type": "markdown",
   "metadata": {},
   "source": [
    "## Чтение входных данных"
   ]
  },
  {
   "cell_type": "markdown",
   "metadata": {},
   "source": [
    "Напишем простую функцию для чтения файла с частью вакансий:"
   ]
  },
  {
   "cell_type": "code",
   "execution_count": 3,
   "metadata": {},
   "outputs": [],
   "source": [
    "def read_vacancies_part(part):\n",
    "    with gzip.open(f'vacancies-{part:02}.json.gz', 'r') as fp:\n",
    "        return json.loads(fp.read())"
   ]
  },
  {
   "cell_type": "code",
   "execution_count": 4,
   "metadata": {},
   "outputs": [
    {
     "name": "stdout",
     "output_type": "stream",
     "text": [
      "Всего вакансий в части 1: 300,000\n",
      "CPU times: user 8 s, sys: 2 s, total: 10 s\n",
      "Wall time: 10.9 s\n"
     ]
    }
   ],
   "source": [
    "%%time\n",
    "\n",
    "part = read_vacancies_part(1)\n",
    "print(f'Всего вакансий в части 1: {len(part):,d}')"
   ]
  },
  {
   "cell_type": "markdown",
   "metadata": {},
   "source": [
    "Пример содержимого вакансии:"
   ]
  },
  {
   "cell_type": "code",
   "execution_count": 5,
   "metadata": {},
   "outputs": [
    {
     "name": "stdout",
     "output_type": "stream",
     "text": [
      "{\n",
      "    \"name\": \"Менеджер по оптовой продаже медицинских оправ и солнцезащитных очков\",\n",
      "    \"description\": \"<strong>Обязанности:</strong> <ul> <li> <p>- оптовые продажи медицинских оправ и солнцезащитных очков магазинам оптики</p> <p>- активный поиск клиентов, создание клиентской базы</p> <p>- контроль дебиторской задолженности</p> <p>- выполнение плана продаж</p> <p>- участие в профильных выставках</p> <p>- частые командировки по России</p> </li> </ul> <strong>Требования:</strong> <ul> <li> <p>- образование: высшее (желательно)</p> <p>-умение вести переговоры‚ проводить личные презентации товара и обучение.</p> <p><strong>-</strong>знание сетевого сегмента оптического рынка, опыт работы в области оптовых продаж</p> <p>- навыки телефонных продаж</p> <p>- знание ПК</p> <p> </p> </li> </ul> <strong>Условия:</strong> <ul> <li> <p>- заработная плата: оклад 40 000 +% за выполнение плана</p> <p>- график работы: понедельник - пятница с 10:00 до 18:00</p> </li> </ul>\",\n",
      "    \"area_id\": 1,\n",
      "    \"creation_date\": \"2019-07-05\",\n",
      "    \"employment\": \"full\",\n",
      "    \"work_schedule\": \"fullDay\",\n",
      "    \"work_experience\": \"noExperience\",\n",
      "    \"compensation_from\": 60000,\n",
      "    \"compensation_to\": 100000,\n",
      "    \"currency\": \"RUR\",\n",
      "    \"key_skills\": [\n",
      "        \"Коммуникабельность\"\n",
      "    ],\n",
      "    \"employer\": \"2d136aa135b3\"\n",
      "}\n"
     ]
    }
   ],
   "source": [
    "print(json.dumps(part['20'], indent=4, ensure_ascii=False))"
   ]
  },
  {
   "cell_type": "markdown",
   "metadata": {},
   "source": [
    "Для этого бейзлана нам понадобятся только хэши работодателей, поэтому будет оставлять только их для экономии памяти:"
   ]
  },
  {
   "cell_type": "code",
   "execution_count": 6,
   "metadata": {},
   "outputs": [
    {
     "data": {
      "application/vnd.jupyter.widget-view+json": {
       "model_id": "f4ed71ae861d4ce59d33f5df3a7a8375",
       "version_major": 2,
       "version_minor": 0
      },
      "text/plain": [
       "HBox(children=(FloatProgress(value=0.0, max=9.0), HTML(value='')))"
      ]
     },
     "metadata": {},
     "output_type": "display_data"
    },
    {
     "name": "stdout",
     "output_type": "stream",
     "text": [
      "Всего вакансий в части 2: 300,000\n",
      "Всего вакансий в части 3: 300,000\n",
      "Всего вакансий в части 4: 300,000\n",
      "Всего вакансий в части 5: 300,000\n",
      "Всего вакансий в части 6: 300,000\n",
      "Всего вакансий в части 7: 300,000\n",
      "Всего вакансий в части 8: 300,000\n",
      "Всего вакансий в части 9: 300,000\n",
      "Всего вакансий в части 10: 212,650\n",
      "\n",
      "Всего вакансий в датасете: 2,912,650\n",
      "CPU times: user 1min 15s, sys: 13.2 s, total: 1min 29s\n",
      "Wall time: 1min 29s\n"
     ]
    }
   ],
   "source": [
    "%%time\n",
    "\n",
    "vacancy_employers = {int(vacancy_id): vacancy['employer'] for vacancy_id, vacancy in part.items()}\n",
    "\n",
    "for part_num in tqdm(range(2, 11)):\n",
    "    part = read_vacancies_part(part_num)\n",
    "    vacancy_employers.update({int(vacancy_id): vacancy['employer'] for vacancy_id, vacancy in part.items()})\n",
    "    print(f'Всего вакансий в части {part_num}: {len(part):,d}')\n",
    "\n",
    "print(f'Всего вакансий в датасете: {len(vacancy_employers):,d}')\n",
    "del part"
   ]
  },
  {
   "cell_type": "markdown",
   "metadata": {},
   "source": [
    "Прочитаем файл со специализациями из тренировочного множества:"
   ]
  },
  {
   "cell_type": "code",
   "execution_count": 7,
   "metadata": {},
   "outputs": [
    {
     "data": {
      "text/html": [
       "<div>\n",
       "<style scoped>\n",
       "    .dataframe tbody tr th:only-of-type {\n",
       "        vertical-align: middle;\n",
       "    }\n",
       "\n",
       "    .dataframe tbody tr th {\n",
       "        vertical-align: top;\n",
       "    }\n",
       "\n",
       "    .dataframe thead th {\n",
       "        text-align: right;\n",
       "    }\n",
       "</style>\n",
       "<table border=\"1\" class=\"dataframe\">\n",
       "  <thead>\n",
       "    <tr style=\"text-align: right;\">\n",
       "      <th></th>\n",
       "      <th>vacancy_id</th>\n",
       "      <th>specializations</th>\n",
       "    </tr>\n",
       "  </thead>\n",
       "  <tbody>\n",
       "    <tr>\n",
       "      <th>0</th>\n",
       "      <td>1</td>\n",
       "      <td>[242, 256, 302, 324, 358, 440]</td>\n",
       "    </tr>\n",
       "    <tr>\n",
       "      <th>1</th>\n",
       "      <td>3</td>\n",
       "      <td>[211]</td>\n",
       "    </tr>\n",
       "    <tr>\n",
       "      <th>2</th>\n",
       "      <td>4</td>\n",
       "      <td>[389, 412, 437]</td>\n",
       "    </tr>\n",
       "    <tr>\n",
       "      <th>3</th>\n",
       "      <td>6</td>\n",
       "      <td>[445]</td>\n",
       "    </tr>\n",
       "    <tr>\n",
       "      <th>4</th>\n",
       "      <td>9</td>\n",
       "      <td>[503]</td>\n",
       "    </tr>\n",
       "  </tbody>\n",
       "</table>\n",
       "</div>"
      ],
      "text/plain": [
       "   vacancy_id                 specializations\n",
       "0           1  [242, 256, 302, 324, 358, 440]\n",
       "1           3                           [211]\n",
       "2           4                 [389, 412, 437]\n",
       "3           6                           [445]\n",
       "4           9                           [503]"
      ]
     },
     "execution_count": 7,
     "metadata": {},
     "output_type": "execute_result"
    }
   ],
   "source": [
    "train_specializations = pd.read_csv('train_labels.csv.gz', compression='gzip')\n",
    "train_specializations.head(5)"
   ]
  },
  {
   "cell_type": "markdown",
   "metadata": {},
   "source": [
    "Для удобства превратим прочитанный датафрейм в словарь из id вакансии в список id специализаций:"
   ]
  },
  {
   "cell_type": "code",
   "execution_count": 8,
   "metadata": {},
   "outputs": [],
   "source": [
    "train_specializations = {\n",
    "    vacancy_id: list(map(int, specs[1:-1].split(',')))\n",
    "    for vacancy_id, specs in train_specializations.set_index('vacancy_id')['specializations'].iteritems()\n",
    "}"
   ]
  },
  {
   "cell_type": "markdown",
   "metadata": {},
   "source": [
    "Наконец, прочитаем файл с id вакансий из тестового множества:"
   ]
  },
  {
   "cell_type": "code",
   "execution_count": 9,
   "metadata": {},
   "outputs": [],
   "source": [
    "test_ids = pd.read_csv('test_vacancy_ids.csv.gz', compression='gzip').values.ravel()"
   ]
  },
  {
   "cell_type": "markdown",
   "metadata": {},
   "source": [
    "### Подготовка сабмита"
   ]
  },
  {
   "cell_type": "markdown",
   "metadata": {},
   "source": [
    "Подготовим сабмит, основанный на интуиции о том, что работодатели часто создают вакансии с одними и теми же специализациями. Поэтому для каждой вакансии из тествого множества поставим в соответствие:\n",
    "* список из top3 специализаций работодателя, если он встречался в тренировочном множесте\n",
    "* одну самую популярную специализацию во всём тренировочном множестве, если мы не видели этого работодателя"
   ]
  },
  {
   "cell_type": "markdown",
   "metadata": {},
   "source": [
    "Посчитаем встречаемость каждой специализации в целом по всем вакансиям, а также в отдельности по каждому работодателю:"
   ]
  },
  {
   "cell_type": "code",
   "execution_count": 10,
   "metadata": {},
   "outputs": [
    {
     "data": {
      "application/vnd.jupyter.widget-view+json": {
       "model_id": "ba5c9e46ece64b23bfd387d9b8582cd8",
       "version_major": 2,
       "version_minor": 0
      },
      "text/plain": [
       "HBox(children=(FloatProgress(value=0.0, max=1456325.0), HTML(value='')))"
      ]
     },
     "metadata": {},
     "output_type": "display_data"
    },
    {
     "name": "stdout",
     "output_type": "stream",
     "text": [
      "\n",
      "CPU times: user 6.58 s, sys: 69.7 ms, total: 6.65 s\n",
      "Wall time: 6.61 s\n"
     ]
    }
   ],
   "source": [
    "%%time\n",
    "\n",
    "common_counter = Counter()\n",
    "employer_counters = defaultdict(lambda: Counter())\n",
    "\n",
    "for vacancy_id, specs in tqdm(train_specializations.items()):\n",
    "    employer_counter = employer_counters[vacancy_employers[vacancy_id]]\n",
    "    for specialization in specs:\n",
    "        common_counter[specialization] += 1\n",
    "        employer_counter[specialization] += 1"
   ]
  },
  {
   "cell_type": "markdown",
   "metadata": {},
   "source": [
    "Теперь нам известен top3 самых популярных специализаций по каждому работодателю, а также самая популярная специализация в датасете:"
   ]
  },
  {
   "cell_type": "code",
   "execution_count": 11,
   "metadata": {},
   "outputs": [
    {
     "name": "stdout",
     "output_type": "stream",
     "text": [
      "top_spec: 256\n",
      "---\n",
      "0ce23382345c: [256, 231, 535]\n",
      "11ecc72a7a76: [221, 117, 82]\n",
      "e1e424ceb5e4: [389, 412, 437]\n",
      "6bba39296047: [445, 311, 477]\n",
      "01a0c3e3c71c: [503]\n",
      "4f31af482a54: [267, 503, 573]\n",
      "fe75299b4202: [256, 520, 535]\n",
      "298d6ba1690e: [16, 235, 81]\n",
      "2d136aa135b3: [149, 183, 196]\n",
      "67b00ca54374: [196, 417]\n"
     ]
    }
   ],
   "source": [
    "top_spec = common_counter.most_common(1)[0][0]\n",
    "top3_specs_by_employer = {\n",
    "    employer: list(map(itemgetter(0), counter.most_common(3)))\n",
    "    for employer, counter in employer_counters.items()\n",
    "}\n",
    "\n",
    "print(f'top_spec: {top_spec}')\n",
    "print('---')\n",
    "for employer, employer_specs in islice(top3_specs_by_employer.items(), 10):\n",
    "    print(f'{employer}: {employer_specs}')"
   ]
  },
  {
   "cell_type": "markdown",
   "metadata": {},
   "source": [
    "Составим сабмит по описанному выше принципу и запишем его в таком же формате, как и файл со специализациями из тренировочного множества:"
   ]
  },
  {
   "cell_type": "code",
   "execution_count": 12,
   "metadata": {},
   "outputs": [
    {
     "name": "stdout",
     "output_type": "stream",
     "text": [
      "CPU times: user 13.9 s, sys: 57.1 ms, total: 14 s\n",
      "Wall time: 14 s\n"
     ]
    }
   ],
   "source": [
    "%%time\n",
    "sample_submission = pd.DataFrame([\n",
    "    (vacancy_id, top3_specs_by_employer.get(vacancy_employers[vacancy_id], [top_spec]))\n",
    "    for vacancy_id in test_ids\n",
    "], columns=['vacancy_id', 'specializations'])\n",
    "sample_submission.to_csv('sample_submission.csv.gz', index=False, compression='gzip')"
   ]
  },
  {
   "cell_type": "markdown",
   "metadata": {},
   "source": [
    "Такой сабмит даёт **0.23546** mean f-score на public."
   ]
  }
 ],
 "metadata": {
  "kernelspec": {
   "display_name": "Python 3",
   "language": "python",
   "name": "python3"
  },
  "language_info": {
   "codemirror_mode": {
    "name": "ipython",
    "version": 3
   },
   "file_extension": ".py",
   "mimetype": "text/x-python",
   "name": "python",
   "nbconvert_exporter": "python",
   "pygments_lexer": "ipython3",
   "version": "3.6.10"
  }
 },
 "nbformat": 4,
 "nbformat_minor": 2
}
