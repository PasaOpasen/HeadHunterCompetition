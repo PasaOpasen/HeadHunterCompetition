{
 "cells": [
  {
   "cell_type": "code",
   "execution_count": null,
   "metadata": {},
   "outputs": [],
   "source": [
    "import numpy as np\n",
    "\n",
    "def f1score(y_true, y_pred):\n",
    "    y_true = set(y_true)\n",
    "    y_pred = set(y_pred)\n",
    "    \n",
    "    tp = len(y_true & y_pred)\n",
    "    precision = tp / len(y_pred)\n",
    "    recall = tp / len(y_true)\n",
    "    if precision == 0.0 and recall == 0.0:\n",
    "        score = 0.0\n",
    "    else:\n",
    "        score = 2 * precision * recall / (precision + recall)\n",
    "    return score\n",
    "\n",
    "def mean_f1score(y_true, y_pred):\n",
    "    lst = []\n",
    "    for vacancy_id, true_specs in y_true.items():\n",
    "        lst.append(f1score(true_specs, y_pred[vacancy_id]))\n",
    "    return np.mean(lst)"
   ]
  }
 ],
 "metadata": {
  "kernelspec": {
   "display_name": "Python 3",
   "language": "python",
   "name": "python3"
  },
  "language_info": {
   "codemirror_mode": {
    "name": "ipython",
    "version": 3
   },
   "file_extension": ".py",
   "mimetype": "text/x-python",
   "name": "python",
   "nbconvert_exporter": "python",
   "pygments_lexer": "ipython3",
   "version": "3.6.9"
  }
 },
 "nbformat": 4,
 "nbformat_minor": 4
}
